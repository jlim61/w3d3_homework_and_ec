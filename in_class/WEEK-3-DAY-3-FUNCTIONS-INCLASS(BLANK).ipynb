{
 "cells": [
  {
   "cell_type": "markdown",
   "metadata": {},
   "source": [
    "# Map, Filter, Reduce, Lambda & Recursion"
   ]
  },
  {
   "cell_type": "markdown",
   "metadata": {},
   "source": [
    "## Tasks Today:\n",
    "\n",
    "1) <b>Lambda Functions</b> <br>\n",
    " &nbsp;&nbsp;&nbsp;&nbsp; a) Syntax <br>\n",
    " &nbsp;&nbsp;&nbsp;&nbsp; b) Saving to a Variable <br>\n",
    " &nbsp;&nbsp;&nbsp;&nbsp; c) Multiple Inputs <br>\n",
    " &nbsp;&nbsp;&nbsp;&nbsp; d) Passing a Lambda into a Function <br>\n",
    " &nbsp;&nbsp;&nbsp;&nbsp; e) Returning a Lambda from a Function <br>\n",
    " &nbsp;&nbsp;&nbsp;&nbsp; f) In-Class Exercise #1 <br>\n",
    "2) <b>Map</b> <br>\n",
    " &nbsp;&nbsp;&nbsp;&nbsp; a) Syntax <br>\n",
    " &nbsp;&nbsp;&nbsp;&nbsp; b) Using Lambda's with Map <br>\n",
    " &nbsp;&nbsp;&nbsp;&nbsp; c) In-Class Exercise #2 <br>\n",
    "3) <b>Filter</b> <br>\n",
    " &nbsp;&nbsp;&nbsp;&nbsp; a) Syntax <br>\n",
    " &nbsp;&nbsp;&nbsp;&nbsp; b) Using Lambda's with Filter <br>\n",
    " &nbsp;&nbsp;&nbsp;&nbsp; c) In-Class Exercise #3 <br>\n",
    "4) <b>Reduce</b> <br>\n",
    " &nbsp;&nbsp;&nbsp;&nbsp; a) Syntax <br>\n",
    " &nbsp;&nbsp;&nbsp;&nbsp; b) Using Lambda's with Reduce <br>\n",
    " &nbsp;&nbsp;&nbsp;&nbsp; c) In-Class Exercise #4 <br>\n",
    "5) <b>Recursion</b> <br>\n",
    " &nbsp;&nbsp;&nbsp;&nbsp; a) Implementing a Base <br>\n",
    " &nbsp;&nbsp;&nbsp;&nbsp; b) Writing a Factorial Function <br>\n",
    " &nbsp;&nbsp;&nbsp;&nbsp; c) In-Class Exercise #5 <br>\n",
    "6) <b>Generators & Iterators</b> <br>\n",
    " &nbsp;&nbsp;&nbsp;&nbsp; a) Yield Keyword <br>\n",
    " &nbsp;&nbsp;&nbsp;&nbsp; b) Inifinite Generator <br>\n",
    " &nbsp;&nbsp;&nbsp;&nbsp; c) In-Class Exercise #6 <br>\n",
    "7) <b>Exercises</b> <br>\n",
    " &nbsp;&nbsp;&nbsp;&nbsp; a) Exercise #1 - Filtering Empty Strings <br>\n",
    " &nbsp;&nbsp;&nbsp;&nbsp; b) Exercise #2 - Sorting with Last Name <br>\n",
    " &nbsp;&nbsp;&nbsp;&nbsp; c) Exercise #3 - Conversion to Farhenheit <br>\n",
    " &nbsp;&nbsp;&nbsp;&nbsp; d) Exercise #4 - Fibonacci Sequence <br>"
   ]
  },
  {
   "cell_type": "markdown",
   "metadata": {},
   "source": [
    "## Lambda Functions <br>\n",
    "<p>Lambda functions... or \"Anonymous Functions\" are referring to inline functions with no name. The keyword lambda denotes the no name function, and executes within a single line. Without saving it to a variable; however, it is not able to be used, unless passed in either as a paramater or within list comprehension.<br>Written as \"(keyword lambda) (one or more inputs) (colon) (function to be executed)\"</p>"
   ]
  },
  {
   "cell_type": "markdown",
   "metadata": {},
   "source": [
    "#### Syntax"
   ]
  },
  {
   "cell_type": "code",
   "execution_count": 1,
   "metadata": {},
   "outputs": [
    {
     "data": {
      "text/plain": [
       "11"
      ]
     },
     "execution_count": 1,
     "metadata": {},
     "output_type": "execute_result"
    }
   ],
   "source": [
    "# lambda keyword (replace def), parameters : function to be executed (inputs)\n",
    "(lambda num1, num2: num1 + num2)(5,6)\n",
    "# if you wrap it in parentheses like this, it becomes a self-executing function\n",
    "\n",
    "def add_two_nums(num1,num2):\n",
    "    return num1 + num2"
   ]
  },
  {
   "cell_type": "markdown",
   "metadata": {},
   "source": [
    "#### Saving to a Variable"
   ]
  },
  {
   "cell_type": "code",
   "execution_count": 4,
   "metadata": {},
   "outputs": [
    {
     "name": "stdout",
     "output_type": "stream",
     "text": [
      "21\n",
      "50\n"
     ]
    },
    {
     "data": {
      "text/plain": [
       "100"
      ]
     },
     "execution_count": 4,
     "metadata": {},
     "output_type": "execute_result"
    }
   ],
   "source": [
    "square_num = lambda num: num**2\n",
    "# save it to a variable to use lambda and make it something that can be called\n",
    "adder = lambda num1, num2: num1 + num2\n",
    "\n",
    "print(adder(10,11))\n",
    "\n",
    "print(adder(20,30))\n",
    "\n",
    "square_num(10)"
   ]
  },
  {
   "cell_type": "markdown",
   "metadata": {},
   "source": [
    "#### Multiple Inputs"
   ]
  },
  {
   "cell_type": "code",
   "execution_count": 5,
   "metadata": {},
   "outputs": [
    {
     "data": {
      "text/plain": [
       "6"
      ]
     },
     "execution_count": 5,
     "metadata": {},
     "output_type": "execute_result"
    }
   ],
   "source": [
    "# see above\n",
    "\n",
    "(lambda num1, num2, num3: num1 + num2 + num3)(1,2,3)\n",
    "\n",
    "def add_three_num(num1,num2,num3):\n",
    "    return num1 + num2 + num3"
   ]
  },
  {
   "cell_type": "markdown",
   "metadata": {},
   "source": [
    "#### Passing a Lambda into a Function"
   ]
  },
  {
   "cell_type": "code",
   "execution_count": 7,
   "metadata": {},
   "outputs": [
    {
     "data": {
      "text/plain": [
       "10"
      ]
     },
     "execution_count": 7,
     "metadata": {},
     "output_type": "execute_result"
    }
   ],
   "source": [
    "# f for function\n",
    "def math_operations(f, num):\n",
    "    return f(num)\n",
    "\n",
    "# note that the lambda input doesn't have to match the argument label from the function\n",
    "# so lambda is being pulled in as f and num is the (num) from the function\n",
    "print(math_operations(lambda lambda_num: lambda_num * 2, 5))\n",
    "\n",
    "print(math_operations(lambda lambda_num: lambda_num / 10, 100))\n",
    "\n",
    "math_operations(lambda lambda_num: lambda_num - 50, 50)"
   ]
  },
  {
   "cell_type": "markdown",
   "metadata": {},
   "source": [
    "#### Returning a Lambda from a Function"
   ]
  },
  {
   "cell_type": "code",
   "execution_count": 24,
   "metadata": {},
   "outputs": [
    {
     "name": "stdout",
     "output_type": "stream",
     "text": [
      "10\n",
      "60\n",
      "42\n",
      "210\n"
     ]
    },
    {
     "data": {
      "text/plain": [
       "402"
      ]
     },
     "execution_count": 24,
     "metadata": {},
     "output_type": "execute_result"
    }
   ],
   "source": [
    "# code looks up, so it sees the 10 first and doesn't look anymore\n",
    "local_var = 100\n",
    "# remember you cannot look down. if under \"local_var = 10\" you put print(inner_var), you would get an error\n",
    "# because inner_var is below so it hasn't been stored as a variable yet\n",
    "\n",
    "def outter_function():\n",
    "    local_var = 10\n",
    "    def inner(num):\n",
    "        inner_var = 11\n",
    "        print(local_var)\n",
    "        return num + local_var\n",
    "    return inner\n",
    "\n",
    "# the first set of () runs the outter function but there is a function within this function\n",
    "# so we need to add the second set of () with a number in it - i.e (50)\n",
    "print(outter_function()(50))\n",
    "\n",
    "def outter_function2(num1,num2):\n",
    "    return lambda num3: (num1 + num2) * num3\n",
    "\n",
    "multiply_twenty_one = outter_function2(10, 11)\n",
    "\n",
    "print(multiply_twenty_one(2))\n",
    "print(multiply_twenty_one(10))\n",
    "\n",
    "multiply_201 = outter_function2(100,101)\n",
    "\n",
    "multiply_201(2)"
   ]
  },
  {
   "cell_type": "markdown",
   "metadata": {},
   "source": [
    "#### If Statements within Lambdas"
   ]
  },
  {
   "cell_type": "code",
   "execution_count": 31,
   "metadata": {},
   "outputs": [
    {
     "name": "stdout",
     "output_type": "stream",
     "text": [
      "10\n",
      "15\n",
      "Adam\n"
     ]
    },
    {
     "data": {
      "text/plain": [
       "'brandon'"
      ]
     },
     "execution_count": 31,
     "metadata": {},
     "output_type": "execute_result"
    }
   ],
   "source": [
    "# if < 10, add 10 : if > 10, subtract 10\n",
    "\n",
    "print((lambda num:num - 10 if num > 10 else num + 10)(20))\n",
    "\n",
    "add_or_subtract_10 = lambda num:num - 10 if num > 10 else num + 10\n",
    "\n",
    "print(add_or_subtract_10(5))\n",
    "\n",
    "# capitalize the first letter of a word if it's a vowel, otherwise make it lowercase. Could also use\n",
    "# 'aeiou' instead of the set if you wanted to\n",
    "capitalize_vowels = lambda word: word.capitalize() if word[0] in {'a','e','i','o','u'} else word.lower()\n",
    "\n",
    "print(capitalize_vowels('adam'))\n",
    "capitalize_vowels('Brandon')"
   ]
  },
  {
   "cell_type": "markdown",
   "metadata": {},
   "source": [
    "#### In-Class Exercise #1 <br>\n",
    "<p>Write an anonymous function that cubes the arguments passed in and assign the anonymous function to a variable 'f'.</p>"
   ]
  },
  {
   "cell_type": "code",
   "execution_count": 37,
   "metadata": {},
   "outputs": [
    {
     "name": "stdout",
     "output_type": "stream",
     "text": [
      "27\n",
      "9\n",
      "8\n"
     ]
    }
   ],
   "source": [
    "f = lambda num: num ** 3\n",
    "\n",
    "print(f(3))\n",
    "\n",
    "# square number if it's odd, cube it if it's even\n",
    "\n",
    "q = lambda num: num ** 2 if num % 2 != 0 else num ** 3\n",
    "\n",
    "print(q(3))\n",
    "print(q(2))"
   ]
  },
  {
   "cell_type": "markdown",
   "metadata": {},
   "source": [
    "## Map <br>\n",
    "<p>The map function allows you to iterate over an entire list while running a function on each item of the list. This is why the map function works well with lambda's, because it simplifies things and you write less lines of code.<br>The syntax for a map function is \"map(function to be used, list to be used)\"<br>However, you must be careful, as the map function returns a map object, not a list. To turn it into a list we use the list() type conversion.</p>"
   ]
  },
  {
   "cell_type": "markdown",
   "metadata": {},
   "source": [
    "#### Syntax"
   ]
  },
  {
   "cell_type": "code",
   "execution_count": 50,
   "metadata": {},
   "outputs": [
    {
     "name": "stdout",
     "output_type": "stream",
     "text": [
      "[1, 4, 9, 16, 25]\n",
      "['A', 'B', 'C', 'D']\n"
     ]
    },
    {
     "data": {
      "text/plain": [
       "[21, 22, 23, 15]"
      ]
     },
     "execution_count": 50,
     "metadata": {},
     "output_type": "execute_result"
    }
   ],
   "source": [
    "# syntax = map(function to be used, list to be used)\n",
    "# map takes care of the \"for\" loop in functions (for e in alist:)\n",
    "\n",
    "#  function to be used  , list to be used\n",
    "map(lambda num: num ** 2, [1,2,3,4,5])\n",
    "\n",
    "print(list(map(lambda num: num ** 2, [1,2,3,4,5])))\n",
    "\n",
    "# squared_map_object = map(lambda num: num ** 2, [1,2,3,4,5])\n",
    "\n",
    "# for squared_num in squared_map_object:\n",
    "#     print(squared_num)\n",
    "\n",
    "# list(squared_map_object)\n",
    "\n",
    "print([letter for letter in map(lambda letter: letter.upper(), 'abcd')])\n",
    "\n",
    "# add 10 to any number\n",
    "\n",
    "def add_ten(num):\n",
    "    return num + 10\n",
    "\n",
    "list(map(add_ten, (11,12,13,5)))\n",
    "    "
   ]
  },
  {
   "cell_type": "markdown",
   "metadata": {},
   "source": [
    "#### Using Lambda's with Map"
   ]
  },
  {
   "cell_type": "code",
   "execution_count": 52,
   "metadata": {},
   "outputs": [
    {
     "name": "stdout",
     "output_type": "stream",
     "text": [
      "['f', 'O', 'O', 'b', 'A', 'r']\n"
     ]
    },
    {
     "data": {
      "text/plain": [
       "'fOObAr'"
      ]
     },
     "execution_count": 52,
     "metadata": {},
     "output_type": "execute_result"
    }
   ],
   "source": [
    "# see above\n",
    "\n",
    "print(list(map(lambda letter: letter.upper() if letter.lower() in {'a', 'e', 'i', 'o', 'u'} else letter, 'foobar')))\n",
    "\n",
    "# to make a string\n",
    "\n",
    "''.join(map(lambda letter: letter.upper() if letter.lower() in {'a', 'e', 'i', 'o', 'u'} else letter, 'foobar'))"
   ]
  },
  {
   "cell_type": "markdown",
   "metadata": {},
   "source": [
    "#### In-Class Exercise #2 <br>\n",
    "<p>Use the map function to double each number and minus it by one in the list by using a lambda function</p>"
   ]
  },
  {
   "cell_type": "code",
   "execution_count": 64,
   "metadata": {},
   "outputs": [
    {
     "name": "stdout",
     "output_type": "stream",
     "text": [
      "[1, 3, 5, 7, 9]\n",
      "[1, 3, 5, 7, 9]\n"
     ]
    }
   ],
   "source": [
    "# using list()\n",
    "list(map(lambda num: num * 2 - 1, [1,2,3,4,5]))\n",
    "print(list(map(lambda num: num * 2 - 1, [1,2,3,4,5])))\n",
    "\n",
    "# list comprehension : [expression for item in iterable if condition]\n",
    "[number for number in map(lambda num: num * 2 - 1, [1,2,3,4,5])]\n",
    "print([number for number in map(lambda num: num * 2 - 1, [1,2,3,4,5])])\n"
   ]
  },
  {
   "cell_type": "markdown",
   "metadata": {},
   "source": [
    "## Filter() <br>\n",
    "<p>Filter's are similar to the map function, where you're able to pass a function argument and a list argument and filter out something from the list based on the conditions passed. Similar to the map function, it returns a filter object, so you need to type convert it to a list()</p>"
   ]
  },
  {
   "cell_type": "markdown",
   "metadata": {},
   "source": [
    "#### Syntax"
   ]
  },
  {
   "cell_type": "code",
   "execution_count": 68,
   "metadata": {},
   "outputs": [
    {
     "name": "stdout",
     "output_type": "stream",
     "text": [
      "['b', 'f', 'w', 's', 'z', 'v', 'S', 'F']\n"
     ]
    },
    {
     "data": {
      "text/plain": [
       "'bfwszvSF'"
      ]
     },
     "execution_count": 68,
     "metadata": {},
     "output_type": "execute_result"
    }
   ],
   "source": [
    "# syntax - filter function(function it takes, an iterable) => gives a filter_object\n",
    "# filter out all vowels\n",
    "\n",
    "# def filter_vowel(letter):\n",
    "#     if letter.lower() in 'aeiou':\n",
    "#         return False\n",
    "#     else:\n",
    "#         return True\n",
    "    \n",
    "# condsensed version\n",
    "def filter_vowel(letter):\n",
    "#     return True if letter is not a vowel, automatically returns False if it doesn't meet this condition\n",
    "    return letter.lower() not in 'aeiou'\n",
    "\n",
    "filter(filter_vowel, 'abafweszveOUSFo')\n",
    "print(list(filter(filter_vowel, 'abafweszveOUSFo')))\n",
    "\n",
    "# make a string\n",
    "''.join(filter(filter_vowel, 'abafweszveOUSFo'))"
   ]
  },
  {
   "cell_type": "markdown",
   "metadata": {},
   "source": [
    "#### Using Lambda's with Filter()"
   ]
  },
  {
   "cell_type": "code",
   "execution_count": 71,
   "metadata": {},
   "outputs": [
    {
     "name": "stdout",
     "output_type": "stream",
     "text": [
      "['f', 'b', 'r']\n"
     ]
    },
    {
     "data": {
      "text/plain": [
       "'josh lyla'"
      ]
     },
     "execution_count": 71,
     "metadata": {},
     "output_type": "execute_result"
    }
   ],
   "source": [
    "filter(lambda letter: letter.lower() not in {'a', 'e', 'i', 'o', 'u'}, 'foobar')\n",
    "# lsit comprehension syntax : [expression for item in iterable if condition]\n",
    "[letter for letter in filter(lambda letter: letter.lower() not in {'a', 'e', 'i', 'o', 'u'}, 'foobar')]\n",
    "print([letter for letter in filter(lambda letter: letter.lower() not in {'a', 'e', 'i', 'o', 'u'}, 'foobar')])\n",
    "\n",
    "filter(lambda student: student[0].lower() not in 't', ['tom', 'josh', 'tim', 'lyla', 'toby'])\n",
    "' '.join(filter(lambda student: student[0].lower() not in 't', ['tom', 'josh', 'tim', 'lyla', 'toby']))"
   ]
  },
  {
   "cell_type": "markdown",
   "metadata": {},
   "source": [
    "#### In-Class Exercise #3 <br>\n",
    "<p>Filter out all the numbers that are below the mean of the list.<br><b>Hint: Import the 'statistics' module</b></p>"
   ]
  },
  {
   "cell_type": "code",
   "execution_count": 95,
   "metadata": {},
   "outputs": [
    {
     "name": "stdout",
     "output_type": "stream",
     "text": [
      "3\n",
      "[3, 4, 5]\n"
     ]
    },
    {
     "data": {
      "text/plain": [
       "[3, 4, 5]"
      ]
     },
     "execution_count": 95,
     "metadata": {},
     "output_type": "execute_result"
    }
   ],
   "source": [
    "# [1,2,3,4,5] mean = 3\n",
    "import statistics\n",
    "\n",
    "# list and mean\n",
    "list_thing = [1,2,3,4,5]\n",
    "mean_thing = statistics.mean(list_thing)\n",
    "print(mean_thing)\n",
    "\n",
    "# list method\n",
    "filter(lambda num: num >= mean_thing, list_thing)\n",
    "list(filter(lambda num: num >= mean_thing, list_thing))\n",
    "print(list(filter(lambda num: num >= mean_thing, list_thing)))\n",
    "\n",
    "# list comprehension\n",
    "[num for num in filter(lambda num: num >= mean_thing, list_thing)]\n"
   ]
  },
  {
   "cell_type": "markdown",
   "metadata": {},
   "source": [
    "## Reduce() <br>\n",
    "<p>Be very careful when using this function, as of Python 3 it's been moved to the 'functools' library and no longer is a built-in function.<br>The creator of Python himself, says to just use a for loop instead.</p>"
   ]
  },
  {
   "cell_type": "markdown",
   "metadata": {},
   "source": [
    "#### Syntax"
   ]
  },
  {
   "cell_type": "code",
   "execution_count": 100,
   "metadata": {},
   "outputs": [
    {
     "name": "stdout",
     "output_type": "stream",
     "text": [
      "10\n"
     ]
    },
    {
     "data": {
      "text/plain": [
       "'Matrix Week 3 Python Continued'"
      ]
     },
     "execution_count": 100,
     "metadata": {},
     "output_type": "execute_result"
    }
   ],
   "source": [
    "# beacuse it has been moved to functools library, it means you have to import to use reduce()\n",
    "# sum function is a reducuer. take a collection of numbers and combine them all together into one accumulator number\n",
    "# syntax\n",
    "# functools.reduce(function, collection)\n",
    "\n",
    "from functools import reduce\n",
    "\n",
    "def adder(acc,num):\n",
    "    return acc + num\n",
    "\n",
    "reduce(adder, [1,2,3,4])\n",
    "print(reduce(adder, [1,2,3,4]))\n",
    "\n",
    "def our_join(acc, word):\n",
    "    return acc + ' ' + word\n",
    "\n",
    "# reduced that list of strings into one string\n",
    "reduce(our_join, ['Matrix', 'Week', '3', 'Python', 'Continued'])"
   ]
  },
  {
   "cell_type": "markdown",
   "metadata": {},
   "source": [
    "#### Using Lambda's with Reduce()"
   ]
  },
  {
   "cell_type": "code",
   "execution_count": 101,
   "metadata": {},
   "outputs": [
    {
     "name": "stdout",
     "output_type": "stream",
     "text": [
      "120\n"
     ]
    },
    {
     "data": {
      "text/plain": [
       "'Matrix Week 3 Python Continued'"
      ]
     },
     "execution_count": 101,
     "metadata": {},
     "output_type": "execute_result"
    }
   ],
   "source": [
    "# for first case, it takes first 10 as acc. it takes second 10 as num. those added make 20 and it stores that as acc.\n",
    "# subsequent numbers are then used for num. so 20 would be acc and then the first 50 becomes num, etc.\n",
    "reduce(lambda acc, num: acc + num, [10,10,50,50])\n",
    "print(reduce(lambda acc, num: acc + num, [10,10,50,50]))\n",
    "\n",
    "matrix_words = ['Matrix', 'Week', '3', 'Python', 'Continued']\n",
    "\n",
    "reduce(lambda acc, word: f'{acc} {word}', matrix_words)"
   ]
  },
  {
   "cell_type": "code",
   "execution_count": 108,
   "metadata": {},
   "outputs": [
    {
     "data": {
      "text/plain": [
       "\"lyla josh's fav movie is the last samurai mabel's fav movie is fifth element tom's fav movie is big lebowski raul's fav movie is the dark knight tim's fav movie is pearl harbor milad's fav movie is gladiator dylan's fav movie is the joker porter's fav movie is underwater\""
      ]
     },
     "execution_count": 108,
     "metadata": {},
     "output_type": "execute_result"
    }
   ],
   "source": [
    "# using dictionary\n",
    "\n",
    "fav_movie = {\n",
    "    'lyla':'top fun', \n",
    "    'josh':'the last samurai',\n",
    "    'mabel':'fifth element',\n",
    "    'tom':'big lebowski', \n",
    "    'raul':'the dark knight', \n",
    "    'tim':'pearl harbor', \n",
    "    'milad':'gladiator', \n",
    "    'dylan':'the joker', \n",
    "    'porter':'underwater'\n",
    "}\n",
    "\n",
    "# k is for key\n",
    "reduce(lambda acc, k: f'{acc} {k}\\'s fav movie is {fav_movie[k]}', fav_movie)"
   ]
  },
  {
   "cell_type": "markdown",
   "metadata": {},
   "source": [
    "#### In-Class Exercise #4 <br>\n",
    "<p>Use the reduce function to multiply the numbers in the list below together with a lambda function.</p>"
   ]
  },
  {
   "cell_type": "code",
   "execution_count": 102,
   "metadata": {},
   "outputs": [
    {
     "data": {
      "text/plain": [
       "2400"
      ]
     },
     "execution_count": 102,
     "metadata": {},
     "output_type": "execute_result"
    }
   ],
   "source": [
    "use_list = [10,5,6,8]\n",
    "# expected = 2400\n",
    "\n",
    "reduce(lambda acc, num: acc * num, use_list)"
   ]
  },
  {
   "cell_type": "markdown",
   "metadata": {},
   "source": [
    "## Recursion <br>\n",
    "<p>Recursion means that a function is calling itself, so it contanstly executes until a base case is reached. It will then push the returning values back up the chain until the function is complete. A prime example of recursion is computing factorials... such that 5! (factorial) is 5*4*3*2*1 which equals 120.</p>"
   ]
  },
  {
   "cell_type": "markdown",
   "metadata": {},
   "source": [
    "#### Implementing a Base Case"
   ]
  },
  {
   "cell_type": "code",
   "execution_count": 118,
   "metadata": {},
   "outputs": [
    {
     "name": "stdout",
     "output_type": "stream",
     "text": [
      "5\n",
      "recursive_add(5) = recursive_add(4) + 5\n",
      "4\n",
      "recursive_add(4) = recursive_add(3) + 4\n",
      "3\n",
      "recursive_add(3) = recursive_add(2) + 3\n",
      "2\n",
      "recursive_add(2) = recursive_add(1) + 2\n",
      "1\n",
      "recursive_add(1) = recursive_add(0) + 1\n",
      "0\n",
      "recursive_add(0) = 0\n"
     ]
    },
    {
     "data": {
      "text/plain": [
       "15"
      ]
     },
     "execution_count": 118,
     "metadata": {},
     "output_type": "execute_result"
    }
   ],
   "source": [
    "# think of it as a while loop\n",
    "# creating a function, that function will call itself\n",
    "\n",
    "def recursive_add(num):\n",
    "    print(num)\n",
    "    if num > 0:\n",
    "        print(f'recursive_add({num}) = recursive_add({num -1}) + {num}')\n",
    "        return recursive_add(num -1) + num\n",
    "    else:\n",
    "        print(f'recursive_add({num}) = {num}')\n",
    "        return num\n",
    "\n",
    "# the while loop version of above\n",
    "# num = 10\n",
    "# count = 0\n",
    "# while True:\n",
    "#     if num > 0:\n",
    "#         count += num\n",
    "#         num -= 1\n",
    "#     else:\n",
    "#         return num\n",
    "\n",
    "recursive_add(5)\n",
    "\n",
    "# if recursive_add(5)\n",
    "# recursive_add(5) = 5 + recursive_add(4) = 10 + 5 = 15\n",
    "# recursive_add(4) = 4 + recursive_add(3) = 4 + 6 = 10\n",
    "# recursive_add(3) = 3 + recursive_add(2) = 3 + 3 = 6\n",
    "# recursive_add(2) = 2 + recursive_add(1) = 2 + 1 = 3\n",
    "# recursive_add(1) = 1 + recursive_add(0) = 1 + 0 = 1\n",
    "# recursive_add(0) = 0"
   ]
  },
  {
   "cell_type": "markdown",
   "metadata": {},
   "source": [
    "#### Writing a Factorial Function"
   ]
  },
  {
   "cell_type": "code",
   "execution_count": 122,
   "metadata": {},
   "outputs": [
    {
     "name": "stdout",
     "output_type": "stream",
     "text": [
      "find_factorial(5) = find_factorial(4) + 5\n",
      "find_factorial(4) = find_factorial(3) + 4\n",
      "find_factorial(3) = find_factorial(2) + 3\n",
      "find_factorial(2) = find_factorial(1) + 2\n",
      "find_factorial(1) = 1\n"
     ]
    },
    {
     "data": {
      "text/plain": [
       "120"
      ]
     },
     "execution_count": 122,
     "metadata": {},
     "output_type": "execute_result"
    }
   ],
   "source": [
    "def find_factorial(num):\n",
    "    \n",
    "    if num == 1:\n",
    "        print(f'find_factorial({num}) = {num}')\n",
    "        return 1\n",
    "    print(f'find_factorial({num}) = find_factorial({num-1}) * {num}')\n",
    "    return find_factorial(num -1) * num\n",
    "\n",
    "find_factorial(5)"
   ]
  },
  {
   "cell_type": "code",
   "execution_count": null,
   "metadata": {},
   "outputs": [],
   "source": [
    "# what is happening\n",
    "# find_factorial(5) = find_factorial(4) * 5 = 24 * 5 = 120\n",
    "# find_factorial(4) = find_factorial(3) * 4 = 6 * 4 = 24\n",
    "# find_factorial(3) = find_factorial(2) * 3 = 2 * 3 = 6\n",
    "# find_factorial(2) = find_factorial(1) * 2 = 1 * 2 = 2\n",
    "# find_factorial(1) = 1"
   ]
  },
  {
   "cell_type": "markdown",
   "metadata": {},
   "source": [
    "#### In-Class Exercise #5 <br>\n",
    "<p>Write a recursive function that subtracts all numbers to the argument given.</p>"
   ]
  },
  {
   "cell_type": "code",
   "execution_count": 132,
   "metadata": {},
   "outputs": [
    {
     "name": "stdout",
     "output_type": "stream",
     "text": [
      "recursive_sub(5) = 5 - recursive_sub(4)\n",
      "recursive_sub(4) = 4 - recursive_sub(3)\n",
      "recursive_sub(3) = 3 - recursive_sub(2)\n",
      "recursive_sub(2) = 2 - recursive_sub(1)\n",
      "recursive_sub(1) = 1 - recursive_sub(0)\n",
      "recursive_sub(0) = 0\n"
     ]
    },
    {
     "data": {
      "text/plain": [
       "3"
      ]
     },
     "execution_count": 132,
     "metadata": {},
     "output_type": "execute_result"
    }
   ],
   "source": [
    "def recursive_sub(num):\n",
    "    if num > 0:\n",
    "        print(f'recursive_sub({num}) = {num} - recursive_sub({num -1})')\n",
    "        return num - recursive_sub(num-1)\n",
    "    else:\n",
    "        print(f'recursive_sub({num}) = {num}')\n",
    "        return num\n",
    "    \n",
    "recursive_sub(5)"
   ]
  },
  {
   "cell_type": "code",
   "execution_count": null,
   "metadata": {},
   "outputs": [],
   "source": [
    "# what is happening\n",
    "# recursive_sub(5) = 5 - recursive_sub(4) = 5 - 2 = 3\n",
    "# recursive_sub(4) = 4 - recursive_sub(3) = 4 - 2 = 2\n",
    "# recursive_sub(3) = 3 - recursive_sub(2) = 3 - 1 = 2\n",
    "# recursive_sub(2) = 2 - recursive_sub(1) = 2 - 1 = 1\n",
    "# recursive_sub(1) = 1 - recursive_sub(0) = 1 - 0 = 1\n",
    "# recursive_sub(0) = 0"
   ]
  },
  {
   "cell_type": "markdown",
   "metadata": {},
   "source": [
    "## Generators <br>\n",
    "<p>Generators are a type of iterable, like lists or tuples. They do not allow indexing, but they can still be iterated through with for loops. They are created using functions and the yield statement.</p>"
   ]
  },
  {
   "cell_type": "markdown",
   "metadata": {},
   "source": [
    "#### Yield Keyword <br>\n",
    "<p>The yield keyword denotes a generator, it doesn't return so it won't leave the function and reset all variables in the function scope, instead it yields the number back to the caller.</p>"
   ]
  },
  {
   "cell_type": "code",
   "execution_count": 146,
   "metadata": {},
   "outputs": [
    {
     "name": "stdout",
     "output_type": "stream",
     "text": [
      "milad\n",
      "tom\n",
      "heather\n"
     ]
    },
    {
     "data": {
      "text/plain": [
       "'heather'"
      ]
     },
     "execution_count": 146,
     "metadata": {},
     "output_type": "execute_result"
    }
   ],
   "source": [
    "def matrix_generator():\n",
    "    yield 'milad'\n",
    "    yield 'tom'\n",
    "    yield 'heather'\n",
    "    \n",
    "generator_obj = matrix_generator()\n",
    "\n",
    "    \n",
    "for student in generator_obj:\n",
    "    print(student)\n",
    "    \n",
    "    generator_obj2 = matrix_generator()\n",
    "    \n",
    "next(generator_obj2)\n",
    "next(generator_obj2)\n",
    "next(generator_obj2)"
   ]
  },
  {
   "cell_type": "code",
   "execution_count": 153,
   "metadata": {},
   "outputs": [
    {
     "name": "stdout",
     "output_type": "stream",
     "text": [
      "0\n",
      "1\n",
      "2\n",
      "3\n",
      "Start loop\n",
      "4\n"
     ]
    }
   ],
   "source": [
    "def my_range(stop, start = 0, step = 1):\n",
    "    while start < stop:\n",
    "        yield start\n",
    "        start += step\n",
    "        \n",
    "# for num in my_range(20):\n",
    "#     print(num)\n",
    "    \n",
    "range_five = my_range(5)\n",
    "\n",
    "print(next(range_five))\n",
    "print(next(range_five))\n",
    "print(next(range_five))\n",
    "print(next(range_five))\n",
    "\n",
    "\n",
    "print('Start loop')\n",
    "for num in range_five:\n",
    "    print(num)"
   ]
  },
  {
   "cell_type": "markdown",
   "metadata": {},
   "source": [
    "#### Infinite Generator"
   ]
  },
  {
   "cell_type": "code",
   "execution_count": null,
   "metadata": {},
   "outputs": [],
   "source": [
    "# bad, never create infinite loops\n",
    "\n",
    "# def my_range(stop, start = 0, step = 1):\n",
    "#     while True:\n",
    "#         yield start\n",
    "#         start += step"
   ]
  },
  {
   "cell_type": "markdown",
   "metadata": {},
   "source": [
    "#### In-Class Exercise #6 <br>\n",
    "<p>Create a generator that takes a number argument and yields that number squared, then prints each number squared until zero is reached.</p>"
   ]
  },
  {
   "cell_type": "code",
   "execution_count": null,
   "metadata": {},
   "outputs": [],
   "source": []
  },
  {
   "cell_type": "markdown",
   "metadata": {},
   "source": [
    "# Exercises"
   ]
  },
  {
   "cell_type": "markdown",
   "metadata": {},
   "source": [
    "### Exercise #1 <br>\n",
    "<p>Filter out all of the empty strings from the list below</p>\n",
    "\n",
    "`Output: ['Argentina', 'San Diego', 'Boston', 'New York']`"
   ]
  },
  {
   "cell_type": "code",
   "execution_count": 208,
   "metadata": {},
   "outputs": [
    {
     "name": "stdout",
     "output_type": "stream",
     "text": [
      "['Argentina', 'San Diego', 'Boston', 'New York']\n",
      "['Argentina', 'San Diego', 'Boston', 'New York']\n"
     ]
    }
   ],
   "source": [
    "places = [\" \",\"Argentina\", \" \", \"San Diego\",\"\",\"  \",\"\",\"Boston\",\"New York\"]\n",
    "\n",
    "\n",
    "# This was my early attempt to just brute force it. I realize if the strings had MORE spaces than what I have\n",
    "# in my condition, then it would not work\n",
    "places_no_empty = [location for location in filter(lambda location: location not in 'A-z', places)]\n",
    "# list(filter(lambda string: string not in 'A-z', places))\n",
    "places_only = [location for location in filter(lambda location: location not in '      ', places_no_empty)]\n",
    "print(places_only)\n",
    "\n",
    "# the .strip() removes white space on right and left. then it says to keep locations that ARE NOT an empty string\n",
    "filtered_places = [location for location in filter(lambda location: location.strip() != '', places)]\n",
    "print(filtered_places)"
   ]
  },
  {
   "cell_type": "markdown",
   "metadata": {},
   "source": [
    "### Exercise #2 <br>\n",
    "<p>Write an anonymous function that sorts this list by the last name...<br><b>Hint: Use the \".sort()\" method and access the key\"</b></p>\n",
    "\n",
    "`Output: ['Victor aNisimov', 'Gary A.J. Bernstein', 'Joel Carter', 'Andrew P. Garfield', 'David hassELHOFF']`"
   ]
  },
  {
   "cell_type": "code",
   "execution_count": 387,
   "metadata": {},
   "outputs": [
    {
     "name": "stdout",
     "output_type": "stream",
     "text": [
      "['Victor aNisimov', 'Gary A.J. Bernstein', 'Joel Carter', 'Andrew P. Garfield', 'David hassELHOFF']\n",
      "['anisimov', 'bernstein', 'carter', 'garfield', 'hasselhoff']\n",
      "['Victor aNisimov', 'Gary A.J. Bernstein', 'Joel Carter', 'Andrew P. Garfield', 'David hassELHOFF']\n"
     ]
    }
   ],
   "source": [
    "author = [\"Joel Carter\", \"Victor aNisimov\", \"Andrew P. Garfield\",\"David hassELHOFF\",\"Gary A.J. Bernstein\"]\n",
    "\n",
    "# FUNCTION VERSION\n",
    "\n",
    "# need to grab the last names, can do this based on indexing if I treat each name as an element, then each element\n",
    "# has two indices: [0] is the first name, [-1] is the last name\n",
    "def last_name(people):\n",
    "    return people.split()[-1].lower()\n",
    "# the function grabs the last name and lowercases all of them so it will be alphabetical. next would be to sort by the key\n",
    "# the key is going to be last_name \n",
    "# the key will sort based on the criteria that goes in. the function has grabbed only last names and is now putting last\n",
    "# names in. so the sort sees Carter, aNisimov, Garfield, hassELHOFF, Bernstein. it then sorts those last names, but it\n",
    "# keeps the corresponding first name which will give me the final outcome.\n",
    "author.sort(key = last_name)\n",
    "print(author)\n",
    "\n",
    "# LAMBDA VERSION\n",
    "\n",
    "l_name = list(map(lambda name: name.split()[-1].lower(), author))\n",
    "\n",
    "print(l_name)\n",
    "\n",
    "author.sort(key = lambda name: name.split()[-1].lower())\n",
    "print(author)"
   ]
  },
  {
   "cell_type": "markdown",
   "metadata": {},
   "source": [
    "### Exercise #3 <br>\n",
    "<p>Convert the list below from Celsius to Farhenheit, using the map function with a lambda...</p>\n",
    "\n",
    "`Output: [('Nashua', 89.6), ('Boston', 53.6), ('Los Angelos', 111.2), ('Miami', 84.2)]\n",
    "`"
   ]
  },
  {
   "cell_type": "code",
   "execution_count": 267,
   "metadata": {},
   "outputs": [
    {
     "name": "stdout",
     "output_type": "stream",
     "text": [
      "[('Nashua', 89.6), ('Boston', 53.6), ('Los Angelos', 111.2), ('Miami', 84.2)]\n"
     ]
    }
   ],
   "source": [
    "# F = (9/5)*C + 32\n",
    "places = [('Nashua',32),(\"Boston\",12),(\"Los Angelos\",44),(\"Miami\",29)]\n",
    "#           [0]    [1]    [0]    [1]          [0]    [1]    [0]   [1]  - EACH NUM HAS A [0] INDEX AND A [1] INDEX\n",
    "#               num           num               num             num     - EACH TUPLE IS A NUM (in my code)\n",
    "\n",
    "# list makes it into a list. then we take the num[0] which is the place (string) and then we make the second part (num[1]),\n",
    "# the conversion from celsius to farenheit\n",
    "c_to_f = list(map(lambda num: (num[0], (9/5)*num[1] + 32), places))\n",
    "print(c_to_f)\n"
   ]
  },
  {
   "cell_type": "markdown",
   "metadata": {},
   "source": [
    "### Exercise #4 <br>\n",
    "<p>Write a recursion function to perform the fibonacci sequence up to the number passed in.</p>\n",
    "\n",
    "`Output for fib(5) => \n",
    "Iteration 0: 1\n",
    "Iteration 1: 1\n",
    "Iteration 2: 2\n",
    "Iteration 3: 3\n",
    "Iteration 4: 5\n",
    "Iteration 5: 8`"
   ]
  },
  {
   "cell_type": "code",
   "execution_count": 409,
   "metadata": {},
   "outputs": [
    {
     "name": "stdout",
     "output_type": "stream",
     "text": [
      "1\n"
     ]
    }
   ],
   "source": []
  },
  {
   "cell_type": "code",
   "execution_count": 389,
   "metadata": {},
   "outputs": [
    {
     "name": "stdout",
     "output_type": "stream",
     "text": [
      "Iteration 0: 1\n",
      "Iteration 1: 1\n",
      "Iteration 2: 2\n",
      "Iteration 3: 3\n",
      "Iteration 4: 5\n",
      "Iteration 5: 8\n",
      "Iteration 5: 8\n"
     ]
    }
   ],
   "source": [
    "# Fibonacci Sequence Visualization\n",
    "\n",
    "# iteration 0 = 1\n",
    "# iteration 2 = 1\n",
    "# iteration 2 = iteration 1 + iteration 0 = 1 + 1 = 2\n",
    "# iteration 3 = iteration 2 + iteration 1 = 2 + 1 = 2\n",
    "\n",
    "# i need to have new iteration = iteration before + iteration 2x before\n",
    "# iteration 0 and 1 are always 1."
   ]
  },
  {
   "cell_type": "code",
   "execution_count": 404,
   "metadata": {
    "scrolled": true
   },
   "outputs": [
    {
     "name": "stdout",
     "output_type": "stream",
     "text": [
      "Iteration 0: 1\n",
      "Iteration 1: 1\n",
      "Iteration 2: 2\n",
      "Iteration 3: 3\n",
      "Iteration 4: 5\n",
      "Iteration 5: 8\n"
     ]
    },
    {
     "data": {
      "text/plain": [
       "'no more iterations'"
      ]
     },
     "execution_count": 404,
     "metadata": {},
     "output_type": "execute_result"
    }
   ],
   "source": [
    "# function that takes in four arguments. my starting number and initial next number should be 1 to represent iteration 0-1\n",
    "# i need the entered argument number (num). I need to track my iterations so that it stops when it the value of number is\n",
    "# reached so I don't go above that number.\n",
    "def fib(num, current_number = 1, next_number = 1, iteration = 0):\n",
    "    \n",
    "#     printing out my iterations\n",
    "    print(f\"Iteration {iteration}: {current_number}\")\n",
    "    \n",
    "# this is used to stop my iterations. if iteration is the same as num, then that should be the end so set the constraint\n",
    "# to if they're equal\n",
    "    if iteration == num:\n",
    "        return 'no more iterations'\n",
    "\n",
    "# setting a new value (number accumulator) to be current number and next number added together\n",
    "# or another way to see it is: number acc = iteration before + iteration 2x before\n",
    "    number_acc = current_number + next_number\n",
    "# I then run the function again but I set the next_number as my current_number argument and I set number_acc as my\n",
    "# next number.\n",
    "    return fib(num, next_number, number_acc, iteration + 1)\n",
    "#          fib(num, current_number = 1, next_number = 1, iteration = 0) - for initial iteration\n",
    "\n",
    "# iteration 0: (5        1                     1                0  )\n",
    "\n",
    "# number acc = 1+1 = 2\n",
    "\n",
    "# print iteration = 0 and current number = 1\n",
    "\n",
    "# updated fib(num, (c)next_number, number_acc, iteration + 1) - (c) denotes it's in the current number slot\n",
    "\n",
    "# iteration 1: 5          1            2             1\n",
    "\n",
    "# number acc = 1+2 = 3\n",
    "\n",
    "# print iteration = 1 and current number = 1\n",
    "\n",
    "# updated fib(num, (c)next_number, number_acc, iteration + 1) - (c) denotes it's in the current number slot\n",
    "\n",
    "# iteration 2: 5          2            3             2\n",
    "\n",
    "# number acc = 3+2 = 5\n",
    "\n",
    "# print iteration = 2 and current number = 2\n",
    "\n",
    "# updated fib(num, (c)next_number, number_acc, iteration + 1) - (c) denotes it's in the current number slot\n",
    "\n",
    "# iteration 2: 5          3            5             3\n",
    "\n",
    "# number acc = 5+3 = 5\n",
    "\n",
    "# print iteration = 3 and current number = 3\n",
    "\n",
    "# updated fib(num, (c)next_number, number_acc, iteration + 1) - (c) denotes it's in the current number slot\n",
    "\n",
    "# iteration 2: 5          5            8             4\n",
    "\n",
    "# number acc = 5+8 = 13\n",
    "\n",
    "# print iteration = 4 and current number = 5\n",
    "\n",
    "# updated fib(num, (c)next_number, number_acc, iteration + 1) - (c) denotes it's in the current number slot\n",
    "\n",
    "# iteration 2: 5          8            13             5\n",
    "\n",
    "# print iteration = 5 and current number = 8\n",
    "\n",
    "fib(5)"
   ]
  },
  {
   "cell_type": "markdown",
   "metadata": {},
   "source": [
    "### Andrew's Help on Recursion"
   ]
  },
  {
   "cell_type": "code",
   "execution_count": 410,
   "metadata": {},
   "outputs": [
    {
     "name": "stdout",
     "output_type": "stream",
     "text": [
      "8\n"
     ]
    }
   ],
   "source": [
    "def fibonacci(n, iteration = 0):\n",
    "    \n",
    "#     base case\n",
    "    if n == 0:\n",
    "        return 1\n",
    "    if n == 1:\n",
    "        return 1\n",
    "    \n",
    "#     recursive step - not hardcoding anymore\n",
    "    return fibonacci(n-1) + fibonacci(n-2)\n",
    "\n",
    "print(fibonacci(5))\n",
    "\n",
    "# recursive step: this is where you call the function inside the function and it needs to stop or infinite loop\n",
    "# recusrive step should go closer to base case\n",
    "# base case: is the \"stop\"\n",
    "\n",
    "#               0 1 2 3 4 5  6 7\n",
    "# fib sequence: 1 1 2 3 5 8 13 21"
   ]
  },
  {
   "cell_type": "code",
   "execution_count": null,
   "metadata": {},
   "outputs": [],
   "source": []
  }
 ],
 "metadata": {
  "kernelspec": {
   "display_name": "Python 3 (ipykernel)",
   "language": "python",
   "name": "python3"
  },
  "language_info": {
   "codemirror_mode": {
    "name": "ipython",
    "version": 3
   },
   "file_extension": ".py",
   "mimetype": "text/x-python",
   "name": "python",
   "nbconvert_exporter": "python",
   "pygments_lexer": "ipython3",
   "version": "3.11.3"
  }
 },
 "nbformat": 4,
 "nbformat_minor": 2
}
